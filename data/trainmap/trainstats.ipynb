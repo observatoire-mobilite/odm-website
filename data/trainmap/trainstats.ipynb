{
 "cells": [
  {
   "cell_type": "code",
   "execution_count": 46,
   "id": "6dc83e62-e49d-4975-94b7-5fd3b733db68",
   "metadata": {},
   "outputs": [],
   "source": [
    "import pandas as pd\n",
    "import numpy as np\n",
    "import json\n",
    "import shutil\n",
    "import itertools"
   ]
  },
  {
   "cell_type": "markdown",
   "id": "769a4c29-48cd-41f4-a209-60e7075e98aa",
   "metadata": {},
   "source": [
    "## Total number of trips per month"
   ]
  },
  {
   "cell_type": "markdown",
   "id": "3c287647-d787-4c03-978b-0a2dc59cfc00",
   "metadata": {},
   "source": [
    "### per stop"
   ]
  },
  {
   "cell_type": "code",
   "execution_count": 59,
   "id": "cebb40ca-3a6b-4d0f-97df-f6e719a02a83",
   "metadata": {},
   "outputs": [],
   "source": [
    "dta = pd.read_csv('cfl 2017_2022_per month by year.csv', encoding='latin-1')\n",
    "\n",
    "# transform\n",
    "dta['date'] = pd.to_datetime(dta['mY'], format='%Y/%m')\n",
    "dta.drop('mY', axis=1, inplace=True)\n",
    "dta['monthly'] = dta[['Montee', 'Descente']].sum(axis=1)\n",
    "\n",
    "# regroup by stop, year and month, ensuring there are 12 entries for every month\n",
    "stats = dta.groupby(['LibBVU', dta.date.dt.year, dta.date.dt.month], observed=False).agg({'monthly': 'sum'})\n",
    "stats = stats.rename_axis(['stop', 'year', 'month'])\n",
    "monthly = stats.reindex(pd.MultiIndex.from_product(stats.index.levels)).groupby(level=[0, 1]).agg(list)"
   ]
  },
  {
   "cell_type": "markdown",
   "id": "4dba65cd-7791-415b-a240-57afd87a78af",
   "metadata": {},
   "source": [
    "### per line"
   ]
  },
  {
   "cell_type": "code",
   "execution_count": 62,
   "id": "e5bb40e8-5125-4893-a490-2c89fac4a7e3",
   "metadata": {},
   "outputs": [],
   "source": [
    "stats = dta.groupby(['Ligne', dta.date.dt.year, dta.date.dt.month], observed=False).agg({'monthly': 'sum'})\n",
    "stats = stats.rename_axis(['stop', 'year', 'month'])\n",
    "monthly_line = stats.reindex(pd.MultiIndex.from_product(stats.index.levels)).groupby(level=[0, 1]).agg(list)"
   ]
  },
  {
   "cell_type": "markdown",
   "id": "a84854b5-a851-48f9-a1e6-af44037d3401",
   "metadata": {},
   "source": [
    "## Average number of trips per day"
   ]
  },
  {
   "cell_type": "markdown",
   "id": "f862d73a-3173-4618-9b94-b075522e2a09",
   "metadata": {},
   "source": [
    "### Per stop"
   ]
  },
  {
   "cell_type": "code",
   "execution_count": 64,
   "id": "a6ac1410-2be3-4b2c-8c1f-09b258184a65",
   "metadata": {},
   "outputs": [],
   "source": [
    "stats = pd.read_csv('cfl 2017_2022_per day by year.csv', encoding='latin-1')\n",
    "stats['daily'] = stats[['Montee_Weekday_vac', 'Descente_Weekday_vac']].sum(axis=1)\n",
    "daily = stats.groupby(['LibBVU', 'Year']).agg({'daily': 'sum'}).round(0).astype(int)"
   ]
  },
  {
   "cell_type": "markdown",
   "id": "90d93718-6ab0-46ad-ac0b-71f75c931b3c",
   "metadata": {},
   "source": [
    "### Per line"
   ]
  },
  {
   "cell_type": "code",
   "execution_count": 67,
   "id": "101ac10c-a9db-465d-9f4d-c88130f84fe1",
   "metadata": {},
   "outputs": [],
   "source": [
    "daily_line = stats.groupby(['Ligne', 'Year']).agg({'daily': 'sum'}).round(0).astype(int)"
   ]
  },
  {
   "cell_type": "markdown",
   "id": "c648617e-d258-4589-8d44-6e3a3b8f438a",
   "metadata": {},
   "source": [
    "## Export to JSON"
   ]
  },
  {
   "cell_type": "code",
   "execution_count": 53,
   "id": "a91d6e49-1e2d-4176-971c-60f22b16368d",
   "metadata": {},
   "outputs": [],
   "source": [
    "def to_nested_dict(dct):\n",
    "    res = {}\n",
    "    for keys, val in dct.items():\n",
    "        target = res\n",
    "        for key in keys:\n",
    "            target = target.setdefault(key, {})\n",
    "        for k, v in val.items():\n",
    "            target[k] = [None if pd.isnull(s) else int(s) for s in v] if hasattr(v, '__iter__') else v\n",
    "    return res"
   ]
  },
  {
   "cell_type": "code",
   "execution_count": 55,
   "id": "b1d7c86f-bb6d-4d91-80a1-0d2a389a296d",
   "metadata": {},
   "outputs": [],
   "source": [
    "def merge_for_export(*args):\n",
    "    dta = [a.to_dict(orient='index') for a in args]\n",
    "    return {k: dict(itertools.chain(*(a[k].items() for a in dta))) for k in dta[0].keys()}\n",
    "    "
   ]
  },
  {
   "cell_type": "code",
   "execution_count": 56,
   "id": "be087420-c784-4360-92f7-1f200343a512",
   "metadata": {},
   "outputs": [
    {
     "data": {
      "text/plain": [
       "'../../public/data/publictransport/trainstats.json'"
      ]
     },
     "execution_count": 56,
     "metadata": {},
     "output_type": "execute_result"
    }
   ],
   "source": [
    "with open('trainstats.json', 'w', encoding='utf-8') as f:\n",
    "    json.dump(to_nested_dict(merge_for_export(daily, monthly)), f)\n",
    "shutil.copyfile('trainstats.json', '../../public/data/publictransport/trainstats.json')"
   ]
  },
  {
   "cell_type": "code",
   "execution_count": 69,
   "id": "f314f6b1-6e27-43a6-8c4a-d3f338b6f899",
   "metadata": {},
   "outputs": [
    {
     "data": {
      "text/plain": [
       "'../../public/data/publictransport/trainstats-line.json'"
      ]
     },
     "execution_count": 69,
     "metadata": {},
     "output_type": "execute_result"
    }
   ],
   "source": [
    "with open('trainstats-line.json', 'w', encoding='utf-8') as f:\n",
    "    json.dump(to_nested_dict(merge_for_export(daily_line, monthly_line)), f)\n",
    "shutil.copyfile('trainstats-line.json', '../../public/data/publictransport/trainstats-line.json')"
   ]
  },
  {
   "cell_type": "code",
   "execution_count": null,
   "id": "1b4a1cd1-1b25-45e5-9ed3-2b0e14acb941",
   "metadata": {},
   "outputs": [],
   "source": []
  }
 ],
 "metadata": {
  "kernelspec": {
   "display_name": "py310-gg",
   "language": "python",
   "name": "py310-gg"
  },
  "language_info": {
   "codemirror_mode": {
    "name": "ipython",
    "version": 3
   },
   "file_extension": ".py",
   "mimetype": "text/x-python",
   "name": "python",
   "nbconvert_exporter": "python",
   "pygments_lexer": "ipython3",
   "version": "3.10.6"
  }
 },
 "nbformat": 4,
 "nbformat_minor": 5
}
