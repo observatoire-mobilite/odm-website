{
 "cells": [
  {
   "cell_type": "code",
   "execution_count": 1,
   "id": "6dc83e62-e49d-4975-94b7-5fd3b733db68",
   "metadata": {},
   "outputs": [],
   "source": [
    "import pandas as pd\n",
    "import numpy as np\n",
    "import json\n",
    "import shutil"
   ]
  },
  {
   "cell_type": "code",
   "execution_count": 2,
   "id": "6831c430-0c4e-4946-bc83-c24e8b248517",
   "metadata": {},
   "outputs": [],
   "source": [
    "dta = pd.read_csv('CFL_map_data_V1.csv', encoding='latin-1')\n",
    "\n",
    "dta['date'] = pd.to_datetime(dta['mY'], format='%Y/%m')\n",
    "dta.drop('mY', axis=1, inplace=True)\n",
    "dta['week_avg'] = dta[['Montee_Weekday_vac', 'Descente_Weekday_vac']].sum(axis=1)"
   ]
  },
  {
   "cell_type": "code",
   "execution_count": 3,
   "id": "cebb40ca-3a6b-4d0f-97df-f6e719a02a83",
   "metadata": {},
   "outputs": [],
   "source": [
    "stats = dta.groupby(['Loc_map', dta.date.dt.year, dta.date.dt.month], observed=False).agg({'week_avg': 'sum'})\n",
    "stats = stats.rename_axis(['stop', 'year', 'month'])"
   ]
  },
  {
   "cell_type": "code",
   "execution_count": 4,
   "id": "8c918443-bbbe-438a-b195-4f2cb19c6b45",
   "metadata": {},
   "outputs": [],
   "source": [
    "d = stats.reindex(pd.MultiIndex.from_product(stats.index.levels)).groupby(level=[0, 1]).agg(list)"
   ]
  },
  {
   "cell_type": "code",
   "execution_count": 5,
   "id": "a91d6e49-1e2d-4176-971c-60f22b16368d",
   "metadata": {},
   "outputs": [],
   "source": [
    "def to_nested_dict(dta):\n",
    "    res = {}\n",
    "    for keys, val in dta.to_dict(orient='index').items():\n",
    "        target = res\n",
    "        for key in keys:\n",
    "            target = target.setdefault(key, {})\n",
    "        for k, v in val.items():\n",
    "            target[k] = [None if pd.isnull(s) else int(s) for s in v]\n",
    "    return res"
   ]
  },
  {
   "cell_type": "code",
   "execution_count": 7,
   "id": "be087420-c784-4360-92f7-1f200343a512",
   "metadata": {},
   "outputs": [
    {
     "data": {
      "text/plain": [
       "'../../public/data/publictransport/trainstats.json'"
      ]
     },
     "execution_count": 7,
     "metadata": {},
     "output_type": "execute_result"
    }
   ],
   "source": [
    "with open('trainstats.json', 'w', encoding='utf-8') as f:\n",
    "    json.dump(to_nested_dict(d), f)\n",
    "shutil.copyfile('trainstats.json', '../../public/data/publictransport/trainstats.json')"
   ]
  },
  {
   "cell_type": "code",
   "execution_count": 9,
   "id": "a4832124-dc99-4feb-8e53-570228284704",
   "metadata": {},
   "outputs": [
    {
     "data": {
      "text/html": [
       "<div>\n",
       "<style scoped>\n",
       "    .dataframe tbody tr th:only-of-type {\n",
       "        vertical-align: middle;\n",
       "    }\n",
       "\n",
       "    .dataframe tbody tr th {\n",
       "        vertical-align: top;\n",
       "    }\n",
       "\n",
       "    .dataframe thead th {\n",
       "        text-align: right;\n",
       "    }\n",
       "</style>\n",
       "<table border=\"1\" class=\"dataframe\">\n",
       "  <thead>\n",
       "    <tr style=\"text-align: right;\">\n",
       "      <th></th>\n",
       "      <th>Ligne new</th>\n",
       "      <th>Loc_map</th>\n",
       "      <th>Montee_Weekday_vac</th>\n",
       "      <th>Descente_Weekday_vac</th>\n",
       "      <th>date</th>\n",
       "      <th>week_avg</th>\n",
       "    </tr>\n",
       "  </thead>\n",
       "  <tbody>\n",
       "    <tr>\n",
       "      <th>0</th>\n",
       "      <td>10</td>\n",
       "      <td>Clervaux</td>\n",
       "      <td>14002</td>\n",
       "      <td>13877</td>\n",
       "      <td>2017-01-01</td>\n",
       "      <td>27879</td>\n",
       "    </tr>\n",
       "    <tr>\n",
       "      <th>1</th>\n",
       "      <td>10</td>\n",
       "      <td>Colmar-Berg</td>\n",
       "      <td>4013</td>\n",
       "      <td>3837</td>\n",
       "      <td>2017-01-01</td>\n",
       "      <td>7850</td>\n",
       "    </tr>\n",
       "    <tr>\n",
       "      <th>2</th>\n",
       "      <td>10</td>\n",
       "      <td>Cruchten</td>\n",
       "      <td>2579</td>\n",
       "      <td>2494</td>\n",
       "      <td>2017-01-01</td>\n",
       "      <td>5073</td>\n",
       "    </tr>\n",
       "    <tr>\n",
       "      <th>3</th>\n",
       "      <td>10</td>\n",
       "      <td>Diekirch</td>\n",
       "      <td>19702</td>\n",
       "      <td>15527</td>\n",
       "      <td>2017-01-01</td>\n",
       "      <td>35229</td>\n",
       "    </tr>\n",
       "    <tr>\n",
       "      <th>4</th>\n",
       "      <td>10</td>\n",
       "      <td>Dommeldange</td>\n",
       "      <td>18129</td>\n",
       "      <td>31227</td>\n",
       "      <td>2017-01-01</td>\n",
       "      <td>49356</td>\n",
       "    </tr>\n",
       "    <tr>\n",
       "      <th>...</th>\n",
       "      <td>...</td>\n",
       "      <td>...</td>\n",
       "      <td>...</td>\n",
       "      <td>...</td>\n",
       "      <td>...</td>\n",
       "      <td>...</td>\n",
       "    </tr>\n",
       "    <tr>\n",
       "      <th>9020</th>\n",
       "      <td>90</td>\n",
       "      <td>Bettembourg</td>\n",
       "      <td>58298</td>\n",
       "      <td>66863</td>\n",
       "      <td>2023-01-01</td>\n",
       "      <td>125161</td>\n",
       "    </tr>\n",
       "    <tr>\n",
       "      <th>9021</th>\n",
       "      <td>90</td>\n",
       "      <td>Hettange-Grande</td>\n",
       "      <td>25330</td>\n",
       "      <td>19337</td>\n",
       "      <td>2023-01-01</td>\n",
       "      <td>44667</td>\n",
       "    </tr>\n",
       "    <tr>\n",
       "      <th>9022</th>\n",
       "      <td>90</td>\n",
       "      <td>Howald</td>\n",
       "      <td>10933</td>\n",
       "      <td>16571</td>\n",
       "      <td>2023-01-01</td>\n",
       "      <td>27504</td>\n",
       "    </tr>\n",
       "    <tr>\n",
       "      <th>9023</th>\n",
       "      <td>90</td>\n",
       "      <td>Luxembourg</td>\n",
       "      <td>262230</td>\n",
       "      <td>276114</td>\n",
       "      <td>2023-01-01</td>\n",
       "      <td>538344</td>\n",
       "    </tr>\n",
       "    <tr>\n",
       "      <th>9024</th>\n",
       "      <td>90</td>\n",
       "      <td>Thionville</td>\n",
       "      <td>145921</td>\n",
       "      <td>122197</td>\n",
       "      <td>2023-01-01</td>\n",
       "      <td>268118</td>\n",
       "    </tr>\n",
       "  </tbody>\n",
       "</table>\n",
       "<p>9025 rows × 6 columns</p>\n",
       "</div>"
      ],
      "text/plain": [
       "      Ligne new          Loc_map  Montee_Weekday_vac  Descente_Weekday_vac  \\\n",
       "0            10         Clervaux               14002                 13877   \n",
       "1            10      Colmar-Berg                4013                  3837   \n",
       "2            10         Cruchten                2579                  2494   \n",
       "3            10         Diekirch               19702                 15527   \n",
       "4            10      Dommeldange               18129                 31227   \n",
       "...         ...              ...                 ...                   ...   \n",
       "9020         90      Bettembourg               58298                 66863   \n",
       "9021         90  Hettange-Grande               25330                 19337   \n",
       "9022         90           Howald               10933                 16571   \n",
       "9023         90       Luxembourg              262230                276114   \n",
       "9024         90       Thionville              145921                122197   \n",
       "\n",
       "           date  week_avg  \n",
       "0    2017-01-01     27879  \n",
       "1    2017-01-01      7850  \n",
       "2    2017-01-01      5073  \n",
       "3    2017-01-01     35229  \n",
       "4    2017-01-01     49356  \n",
       "...         ...       ...  \n",
       "9020 2023-01-01    125161  \n",
       "9021 2023-01-01     44667  \n",
       "9022 2023-01-01     27504  \n",
       "9023 2023-01-01    538344  \n",
       "9024 2023-01-01    268118  \n",
       "\n",
       "[9025 rows x 6 columns]"
      ]
     },
     "execution_count": 9,
     "metadata": {},
     "output_type": "execute_result"
    }
   ],
   "source": [
    "dta"
   ]
  },
  {
   "cell_type": "code",
   "execution_count": null,
   "id": "f314f6b1-6e27-43a6-8c4a-d3f338b6f899",
   "metadata": {},
   "outputs": [],
   "source": []
  }
 ],
 "metadata": {
  "kernelspec": {
   "display_name": "Python 3 (ipykernel)",
   "language": "python",
   "name": "python3"
  },
  "language_info": {
   "codemirror_mode": {
    "name": "ipython",
    "version": 3
   },
   "file_extension": ".py",
   "mimetype": "text/x-python",
   "name": "python",
   "nbconvert_exporter": "python",
   "pygments_lexer": "ipython3",
   "version": "3.10.6"
  }
 },
 "nbformat": 4,
 "nbformat_minor": 5
}
